{
 "cells": [
  {
   "cell_type": "code",
   "execution_count": 16,
   "metadata": {},
   "outputs": [],
   "source": [
    "import pandas as pd\n",
    "\n",
    "data = pd.read_excel('D:\\Ravi Lakshay\\Prepp 2022\\Carnot_Agri\\sample_data_forPy.xlsx','filtered')"
   ]
  },
  {
   "cell_type": "code",
   "execution_count": 20,
   "metadata": {
    "scrolled": true
   },
   "outputs": [
    {
     "data": {
      "text/html": [
       "<div>\n",
       "<style scoped>\n",
       "    .dataframe tbody tr th:only-of-type {\n",
       "        vertical-align: middle;\n",
       "    }\n",
       "\n",
       "    .dataframe tbody tr th {\n",
       "        vertical-align: top;\n",
       "    }\n",
       "\n",
       "    .dataframe thead th {\n",
       "        text-align: right;\n",
       "    }\n",
       "</style>\n",
       "<table border=\"1\" class=\"dataframe\">\n",
       "  <thead>\n",
       "    <tr style=\"text-align: right;\">\n",
       "      <th></th>\n",
       "      <th>1</th>\n",
       "      <th>2</th>\n",
       "      <th>3</th>\n",
       "      <th>4</th>\n",
       "      <th>5</th>\n",
       "      <th>6</th>\n",
       "      <th>7</th>\n",
       "      <th>8</th>\n",
       "      <th>9</th>\n",
       "      <th>10</th>\n",
       "      <th>...</th>\n",
       "      <th>51</th>\n",
       "      <th>52</th>\n",
       "      <th>53</th>\n",
       "      <th>54</th>\n",
       "      <th>55</th>\n",
       "      <th>56</th>\n",
       "      <th>57</th>\n",
       "      <th>58</th>\n",
       "      <th>59</th>\n",
       "      <th>602</th>\n",
       "    </tr>\n",
       "  </thead>\n",
       "  <tbody>\n",
       "    <tr>\n",
       "      <td>0</td>\n",
       "      <td>Wheat</td>\n",
       "      <td>Garlic</td>\n",
       "      <td>Onion</td>\n",
       "      <td>Potato</td>\n",
       "      <td>NaN</td>\n",
       "      <td>NaN</td>\n",
       "      <td>NaN</td>\n",
       "      <td>NaN</td>\n",
       "      <td>NaN</td>\n",
       "      <td>NaN</td>\n",
       "      <td>...</td>\n",
       "      <td>NaN</td>\n",
       "      <td>NaN</td>\n",
       "      <td>NaN</td>\n",
       "      <td>NaN</td>\n",
       "      <td>NaN</td>\n",
       "      <td>NaN</td>\n",
       "      <td>NaN</td>\n",
       "      <td>NaN</td>\n",
       "      <td>NaN</td>\n",
       "      <td>NaN</td>\n",
       "    </tr>\n",
       "    <tr>\n",
       "      <td>1</td>\n",
       "      <td>Paddy</td>\n",
       "      <td>NaN</td>\n",
       "      <td>NaN</td>\n",
       "      <td>NaN</td>\n",
       "      <td>NaN</td>\n",
       "      <td>NaN</td>\n",
       "      <td>NaN</td>\n",
       "      <td>NaN</td>\n",
       "      <td>NaN</td>\n",
       "      <td>NaN</td>\n",
       "      <td>...</td>\n",
       "      <td>NaN</td>\n",
       "      <td>NaN</td>\n",
       "      <td>NaN</td>\n",
       "      <td>NaN</td>\n",
       "      <td>NaN</td>\n",
       "      <td>NaN</td>\n",
       "      <td>NaN</td>\n",
       "      <td>NaN</td>\n",
       "      <td>NaN</td>\n",
       "      <td>NaN</td>\n",
       "    </tr>\n",
       "    <tr>\n",
       "      <td>2</td>\n",
       "      <td>Groundnut</td>\n",
       "      <td>NaN</td>\n",
       "      <td>NaN</td>\n",
       "      <td>NaN</td>\n",
       "      <td>NaN</td>\n",
       "      <td>NaN</td>\n",
       "      <td>NaN</td>\n",
       "      <td>NaN</td>\n",
       "      <td>NaN</td>\n",
       "      <td>NaN</td>\n",
       "      <td>...</td>\n",
       "      <td>NaN</td>\n",
       "      <td>NaN</td>\n",
       "      <td>NaN</td>\n",
       "      <td>NaN</td>\n",
       "      <td>NaN</td>\n",
       "      <td>NaN</td>\n",
       "      <td>NaN</td>\n",
       "      <td>NaN</td>\n",
       "      <td>NaN</td>\n",
       "      <td>NaN</td>\n",
       "    </tr>\n",
       "    <tr>\n",
       "      <td>3</td>\n",
       "      <td>NaN</td>\n",
       "      <td>NaN</td>\n",
       "      <td>NaN</td>\n",
       "      <td>NaN</td>\n",
       "      <td>NaN</td>\n",
       "      <td>NaN</td>\n",
       "      <td>NaN</td>\n",
       "      <td>NaN</td>\n",
       "      <td>NaN</td>\n",
       "      <td>NaN</td>\n",
       "      <td>...</td>\n",
       "      <td>NaN</td>\n",
       "      <td>NaN</td>\n",
       "      <td>NaN</td>\n",
       "      <td>NaN</td>\n",
       "      <td>NaN</td>\n",
       "      <td>NaN</td>\n",
       "      <td>NaN</td>\n",
       "      <td>NaN</td>\n",
       "      <td>NaN</td>\n",
       "      <td>NaN</td>\n",
       "    </tr>\n",
       "    <tr>\n",
       "      <td>4</td>\n",
       "      <td>Mustard</td>\n",
       "      <td>Wheat</td>\n",
       "      <td>NaN</td>\n",
       "      <td>NaN</td>\n",
       "      <td>NaN</td>\n",
       "      <td>NaN</td>\n",
       "      <td>NaN</td>\n",
       "      <td>NaN</td>\n",
       "      <td>NaN</td>\n",
       "      <td>NaN</td>\n",
       "      <td>...</td>\n",
       "      <td>NaN</td>\n",
       "      <td>NaN</td>\n",
       "      <td>NaN</td>\n",
       "      <td>NaN</td>\n",
       "      <td>NaN</td>\n",
       "      <td>NaN</td>\n",
       "      <td>NaN</td>\n",
       "      <td>NaN</td>\n",
       "      <td>NaN</td>\n",
       "      <td>NaN</td>\n",
       "    </tr>\n",
       "  </tbody>\n",
       "</table>\n",
       "<p>5 rows × 60 columns</p>\n",
       "</div>"
      ],
      "text/plain": [
       "           1       2      3       4    5    6    7    8    9   10  ...   51  \\\n",
       "0      Wheat  Garlic  Onion  Potato  NaN  NaN  NaN  NaN  NaN  NaN  ...  NaN   \n",
       "1      Paddy     NaN    NaN     NaN  NaN  NaN  NaN  NaN  NaN  NaN  ...  NaN   \n",
       "2  Groundnut     NaN    NaN     NaN  NaN  NaN  NaN  NaN  NaN  NaN  ...  NaN   \n",
       "3        NaN     NaN    NaN     NaN  NaN  NaN  NaN  NaN  NaN  NaN  ...  NaN   \n",
       "4    Mustard   Wheat    NaN     NaN  NaN  NaN  NaN  NaN  NaN  NaN  ...  NaN   \n",
       "\n",
       "    52   53   54   55   56   57   58   59  602  \n",
       "0  NaN  NaN  NaN  NaN  NaN  NaN  NaN  NaN  NaN  \n",
       "1  NaN  NaN  NaN  NaN  NaN  NaN  NaN  NaN  NaN  \n",
       "2  NaN  NaN  NaN  NaN  NaN  NaN  NaN  NaN  NaN  \n",
       "3  NaN  NaN  NaN  NaN  NaN  NaN  NaN  NaN  NaN  \n",
       "4  NaN  NaN  NaN  NaN  NaN  NaN  NaN  NaN  NaN  \n",
       "\n",
       "[5 rows x 60 columns]"
      ]
     },
     "execution_count": 20,
     "metadata": {},
     "output_type": "execute_result"
    }
   ],
   "source": [
    "df = data.iloc[:,2:]\n",
    "df.head()"
   ]
  },
  {
   "cell_type": "code",
   "execution_count": 27,
   "metadata": {
    "scrolled": false
   },
   "outputs": [
    {
     "data": {
      "text/html": [
       "<div>\n",
       "<style scoped>\n",
       "    .dataframe tbody tr th:only-of-type {\n",
       "        vertical-align: middle;\n",
       "    }\n",
       "\n",
       "    .dataframe tbody tr th {\n",
       "        vertical-align: top;\n",
       "    }\n",
       "\n",
       "    .dataframe thead th {\n",
       "        text-align: right;\n",
       "    }\n",
       "</style>\n",
       "<table border=\"1\" class=\"dataframe\">\n",
       "  <thead>\n",
       "    <tr style=\"text-align: right;\">\n",
       "      <th></th>\n",
       "      <th>1</th>\n",
       "      <th>2</th>\n",
       "      <th>3</th>\n",
       "      <th>4</th>\n",
       "      <th>5</th>\n",
       "      <th>6</th>\n",
       "      <th>7</th>\n",
       "      <th>8</th>\n",
       "      <th>9</th>\n",
       "      <th>10</th>\n",
       "      <th>...</th>\n",
       "      <th>51</th>\n",
       "      <th>52</th>\n",
       "      <th>53</th>\n",
       "      <th>54</th>\n",
       "      <th>55</th>\n",
       "      <th>56</th>\n",
       "      <th>57</th>\n",
       "      <th>58</th>\n",
       "      <th>59</th>\n",
       "      <th>60</th>\n",
       "    </tr>\n",
       "  </thead>\n",
       "  <tbody>\n",
       "    <tr>\n",
       "      <td>0</td>\n",
       "      <td>Wheat</td>\n",
       "      <td>Garlic</td>\n",
       "      <td>Onion</td>\n",
       "      <td>Potato</td>\n",
       "      <td>NaN</td>\n",
       "      <td>NaN</td>\n",
       "      <td>NaN</td>\n",
       "      <td>NaN</td>\n",
       "      <td>NaN</td>\n",
       "      <td>NaN</td>\n",
       "      <td>...</td>\n",
       "      <td>NaN</td>\n",
       "      <td>NaN</td>\n",
       "      <td>NaN</td>\n",
       "      <td>NaN</td>\n",
       "      <td>NaN</td>\n",
       "      <td>NaN</td>\n",
       "      <td>NaN</td>\n",
       "      <td>NaN</td>\n",
       "      <td>NaN</td>\n",
       "      <td>NaN</td>\n",
       "    </tr>\n",
       "    <tr>\n",
       "      <td>1</td>\n",
       "      <td>Paddy</td>\n",
       "      <td>NaN</td>\n",
       "      <td>NaN</td>\n",
       "      <td>NaN</td>\n",
       "      <td>NaN</td>\n",
       "      <td>NaN</td>\n",
       "      <td>NaN</td>\n",
       "      <td>NaN</td>\n",
       "      <td>NaN</td>\n",
       "      <td>NaN</td>\n",
       "      <td>...</td>\n",
       "      <td>NaN</td>\n",
       "      <td>NaN</td>\n",
       "      <td>NaN</td>\n",
       "      <td>NaN</td>\n",
       "      <td>NaN</td>\n",
       "      <td>NaN</td>\n",
       "      <td>NaN</td>\n",
       "      <td>NaN</td>\n",
       "      <td>NaN</td>\n",
       "      <td>NaN</td>\n",
       "    </tr>\n",
       "    <tr>\n",
       "      <td>2</td>\n",
       "      <td>Groundnut</td>\n",
       "      <td>NaN</td>\n",
       "      <td>NaN</td>\n",
       "      <td>NaN</td>\n",
       "      <td>NaN</td>\n",
       "      <td>NaN</td>\n",
       "      <td>NaN</td>\n",
       "      <td>NaN</td>\n",
       "      <td>NaN</td>\n",
       "      <td>NaN</td>\n",
       "      <td>...</td>\n",
       "      <td>NaN</td>\n",
       "      <td>NaN</td>\n",
       "      <td>NaN</td>\n",
       "      <td>NaN</td>\n",
       "      <td>NaN</td>\n",
       "      <td>NaN</td>\n",
       "      <td>NaN</td>\n",
       "      <td>NaN</td>\n",
       "      <td>NaN</td>\n",
       "      <td>NaN</td>\n",
       "    </tr>\n",
       "    <tr>\n",
       "      <td>3</td>\n",
       "      <td>NaN</td>\n",
       "      <td>NaN</td>\n",
       "      <td>NaN</td>\n",
       "      <td>NaN</td>\n",
       "      <td>NaN</td>\n",
       "      <td>NaN</td>\n",
       "      <td>NaN</td>\n",
       "      <td>NaN</td>\n",
       "      <td>NaN</td>\n",
       "      <td>NaN</td>\n",
       "      <td>...</td>\n",
       "      <td>NaN</td>\n",
       "      <td>NaN</td>\n",
       "      <td>NaN</td>\n",
       "      <td>NaN</td>\n",
       "      <td>NaN</td>\n",
       "      <td>NaN</td>\n",
       "      <td>NaN</td>\n",
       "      <td>NaN</td>\n",
       "      <td>NaN</td>\n",
       "      <td>NaN</td>\n",
       "    </tr>\n",
       "    <tr>\n",
       "      <td>4</td>\n",
       "      <td>Mustard</td>\n",
       "      <td>Wheat</td>\n",
       "      <td>NaN</td>\n",
       "      <td>NaN</td>\n",
       "      <td>NaN</td>\n",
       "      <td>NaN</td>\n",
       "      <td>NaN</td>\n",
       "      <td>NaN</td>\n",
       "      <td>NaN</td>\n",
       "      <td>NaN</td>\n",
       "      <td>...</td>\n",
       "      <td>NaN</td>\n",
       "      <td>NaN</td>\n",
       "      <td>NaN</td>\n",
       "      <td>NaN</td>\n",
       "      <td>NaN</td>\n",
       "      <td>NaN</td>\n",
       "      <td>NaN</td>\n",
       "      <td>NaN</td>\n",
       "      <td>NaN</td>\n",
       "      <td>NaN</td>\n",
       "    </tr>\n",
       "  </tbody>\n",
       "</table>\n",
       "<p>5 rows × 60 columns</p>\n",
       "</div>"
      ],
      "text/plain": [
       "           1       2      3       4    5    6    7    8    9   10  ...   51  \\\n",
       "0      Wheat  Garlic  Onion  Potato  NaN  NaN  NaN  NaN  NaN  NaN  ...  NaN   \n",
       "1      Paddy     NaN    NaN     NaN  NaN  NaN  NaN  NaN  NaN  NaN  ...  NaN   \n",
       "2  Groundnut     NaN    NaN     NaN  NaN  NaN  NaN  NaN  NaN  NaN  ...  NaN   \n",
       "3        NaN     NaN    NaN     NaN  NaN  NaN  NaN  NaN  NaN  NaN  ...  NaN   \n",
       "4    Mustard   Wheat    NaN     NaN  NaN  NaN  NaN  NaN  NaN  NaN  ...  NaN   \n",
       "\n",
       "    52   53   54   55   56   57   58   59   60  \n",
       "0  NaN  NaN  NaN  NaN  NaN  NaN  NaN  NaN  NaN  \n",
       "1  NaN  NaN  NaN  NaN  NaN  NaN  NaN  NaN  NaN  \n",
       "2  NaN  NaN  NaN  NaN  NaN  NaN  NaN  NaN  NaN  \n",
       "3  NaN  NaN  NaN  NaN  NaN  NaN  NaN  NaN  NaN  \n",
       "4  NaN  NaN  NaN  NaN  NaN  NaN  NaN  NaN  NaN  \n",
       "\n",
       "[5 rows x 60 columns]"
      ]
     },
     "execution_count": 27,
     "metadata": {},
     "output_type": "execute_result"
    }
   ],
   "source": [
    "df.rename(columns = {'602':'60'}, inplace=True)\n",
    "df.head()"
   ]
  },
  {
   "cell_type": "code",
   "execution_count": 37,
   "metadata": {
    "collapsed": true
   },
   "outputs": [
    {
     "data": {
      "text/plain": [
       "array(['Wheat', 'Paddy', 'Groundnut', nan, 'Mustard', 'Chilli', 'Cabbage',\n",
       "       'Onion', 'Maize', 'Black gram', 'Green Pea', 'Sugarcane', 'Not-a',\n",
       "       'Fenugreek', 'Capsicum', 'Tomato', 'Papaya', 'mass', 'Potato',\n",
       "       'Carnation', 'Sugarcane Ratoon', 'Grapes', 'Bitter gourd',\n",
       "       'Cotton', 'Brinjal', 'Pomegranate', 'Tuberose', 'Ryado',\n",
       "       'Bengal GRAM', 'Garlic', 'Domestic flower', 'Red Gram', 'potato',\n",
       "       'Watermelon', 'Soybean', 'Cucumber', 'Green Gram',\n",
       "       'Vall Papadi / Ghevada', 'Common Cress', 'Bottle gourd', 'Guava',\n",
       "       'Cow pea', 'Mango', 'Pea', 'Lemon', 'Cauliflower', 'Redmissue',\n",
       "       'Bagan', 'Sorghum', 'MAKKA', 'Carrot', 'Green Sorrel curry',\n",
       "       'Palm oil', 'kaddu', 'Oat', 'Pearl millet', 'bhinda', 'khandgav',\n",
       "       'Okra', 'corn', 'Custard apple', 'Sweet Lime', 'Ginger', 'Cumin',\n",
       "       'lehsun', 'Pointed Gourd', 'Orange', 'Ma', 'Jasmine',\n",
       "       'Sabji Wali Matar Ki Fasal', 'lahsun', 'Raddish', 'Rule', 'Rose',\n",
       "       'garlic', 'lesson', 'Amaranth Seeds (Rajgira)', 'Wiru', 'Staberry',\n",
       "       'Finger millet', 'Shahid', 'SAPOTA', 'Aalu', 'As', 'tuver',\n",
       "       'Ridge gourd', 'Lasan', 'Gahu', 'Seed onion', 'Luki.',\n",
       "       'Chrysanthemum', 'June', 'pyaj', 'super nepiyer', 'Castor',\n",
       "       'wheat', 'cumin', 'rayda', 'mushroom', 'Jira', 'Ghehu.', 'Barley',\n",
       "       'ghehun', 'other', 'Gehun', 'Cluster Bean', 'Eranda', 'Coconut',\n",
       "       'safflower', 'Eg.', 'Marigold', 'Gram', 'hri matar', 'Masur',\n",
       "       'Beans', 'gehu', 'Siron', 'well-known', 'Mdsakhli.', 'lhousn',\n",
       "       'Munaga Kayalu', 'Small Gourd', 'manth', 'Sweet Potato', 'sarso',\n",
       "       'tomato', 'Pigweed', 'Tobacco', 'watermelon', 'Direction',\n",
       "       'Drumstic', 'Niger', 'Gira', 'concept.', 'lahasun', 'Sarson',\n",
       "       'laha', 'mashur', 'Pimpri', 'Lahsan', 'Stolen', 'Mug', 'Lassn.',\n",
       "       'Lashne', 'Loss', 'rashi', 'Divela', 'Chana', 'Success', 'masroom',\n",
       "       'Mirchi', 'Dan', 'Nut', 'Basil', 'Saraso', 'Aniyan', 'MIMBER',\n",
       "       'bhindi', 'Ashwagandha', 'kadhu', 'Merapa', '𝑚𝑎𝑠𝑜𝑟',\n",
       "       'Mustard and wheat', 'tambaku', 'Tarbuj', 'Isabol', 'Location',\n",
       "       'crystal', 'Chickpea', 'gehun chana', 'Bathua (Cheel Bhaji)',\n",
       "       'Green chilli', 'Gold', 'peas', 'coriander', 'chanaa',\n",
       "       'Compression', 'Eyelid', 'Boria', 'Gladiolus',\n",
       "       'Mustard cultivation', 'Calu', 'Isabgol', 'March',\n",
       "       'Balcooa Bamboo', 'Rope of onion', 'mustard', 'Scarcity',\n",
       "       'bhajan kumar', 'white sunflower',\n",
       "       'Black grapes are getting worse', 'Kalenji', 'Kalosi', 'Pineapple',\n",
       "       'Gehum', 'minumus', 'rabi', 'Green Morning crop', 'Talent',\n",
       "       'reshmi', 'You. You.', 'musroom', 'MAKKAE', 'Spark', 'Rice',\n",
       "       'kalonji', 'Shevga', 'Gerbera', 'mentha', 'Mubp', 'Peanut',\n",
       "       'Tobaco', 'Bakala', 'Cocoa', 'The sum', 'kathal', 'Impetuous',\n",
       "       'Green pea', 'Masroom', 'Mehnta', 'Piyaz', 'DONGLA', 'Ridgeka',\n",
       "       'Applebury', 'Tobbaco', 'lahsun ki kheti', 'aluminum', 'GHAU',\n",
       "       'palahk', 'Avocado', 'krishnabhai2731@gmail.com', 'Sarasro', 'day',\n",
       "       'jolly', 'Mathy', 'Awala', 'coriander leaves', 'BARSHIM.',\n",
       "       'button mushroom', 'adark', 'charri', 'ghuya', 'tmatar', 'mirc',\n",
       "       '1958', 'Crop paddy crop', 'Strawberry', 'Mamja', 'Clarity',\n",
       "       'Jiru', 'masturd', 'Suryakanti', 'Sunflower cutter flat',\n",
       "       'Pan mathi', 'aloe vera', 'Crayon', 'Ishbgan', 'Erd', 'jeenium',\n",
       "       'Tamaku.', 'Vertebrate', 'Arandi', 'Coriander', 'progress',\n",
       "       'povaku', 'bhan', 'drumstick', 'Md azhar', 'knock', 'Sardstone',\n",
       "       'geho', 'genhu', 'Devee', 'Arecanut', 'Chai Patti.', 'Azau',\n",
       "       'Janny', 'kill', 'Family', 'Japa', 'Ush.', 'Lahta 41s46', 'Raida',\n",
       "       'plus', 'Sunflower', 'Grape', 'seed', 'Made', 'aloo',\n",
       "       'sweetenia mahogany', 'China', 'Nubbo', 'chilli', 'eranda',\n",
       "       'Gaahun', 'semi', 'Radia', 'Isbugul', 'Harbada', 'Daddy', 'Ripid',\n",
       "       'yard long bean', 'Geheu', 'gaihu', 'Mushroom',\n",
       "       'Which crop brother benefit us in it', 'Sugarcane. Tur', 'lashan',\n",
       "       'Peeper mate', 'Birnery', 'Tamota', 'Opium', 'khira', 'Laran',\n",
       "       'Wheat crop', 'ganna', 'Gaulavadi', 'Swimming', 'Isbol',\n",
       "       'Spine Gourd', 'Morning', 'sarity', 'sunflower', 'Office', 'who',\n",
       "       'michi', 'Isab cumin', 'Aster', 'Tummer', 'rajma', 'ashwangda',\n",
       "       'Galoon', 'Tell the name of wheat crop card', 'lasun', 'mumble',\n",
       "       'Wheat initiative', 'Fig', 'Barsin', 'ᴘᴀɴ ᴍᴇᴛʜɪ', 'Pamal',\n",
       "       'Kundru', 'Village', 'sandwich', 'Ghana', 'Green male', 'tamatar',\n",
       "       'shinghee', 'ashvgandha', 'Kaly no', 'Loll', 'Securities',\n",
       "       'Siyaram', 'Gray', 'minimum', 'Oilson', 'sugarcane', 'Kabbu',\n",
       "       'Davae of L in Gia', 'Gaehu', 'whirusanaga', 'Sardinian', 'vadiya',\n",
       "       'Cilantro', 'D a p ram jankari', 'Brushes', 'are square', 'masoor',\n",
       "       'dawn', 'kanakaburam', 'Kagda', 'massor', 'Sonal Papadi', 'Lentil',\n",
       "       'sauce', 'Parasalsih', 'masr'], dtype=object)"
      ]
     },
     "execution_count": 37,
     "metadata": {},
     "output_type": "execute_result"
    }
   ],
   "source": [
    "df['1'].unique()"
   ]
  },
  {
   "cell_type": "code",
   "execution_count": 73,
   "metadata": {},
   "outputs": [],
   "source": [
    "import enchant"
   ]
  },
  {
   "cell_type": "code",
   "execution_count": 74,
   "metadata": {},
   "outputs": [],
   "source": [
    "d = enchant.Dict(\"en_US\")"
   ]
  },
  {
   "cell_type": "code",
   "execution_count": 75,
   "metadata": {
    "scrolled": true
   },
   "outputs": [
    {
     "data": {
      "text/plain": [
       "True"
      ]
     },
     "execution_count": 75,
     "metadata": {},
     "output_type": "execute_result"
    }
   ],
   "source": [
    "d.check(\"little\")"
   ]
  },
  {
   "cell_type": "code",
   "execution_count": 61,
   "metadata": {
    "scrolled": true
   },
   "outputs": [
    {
     "ename": "SyntaxError",
     "evalue": "invalid syntax (<ipython-input-61-1bda6a99003e>, line 3)",
     "output_type": "error",
     "traceback": [
      "\u001b[1;36m  File \u001b[1;32m\"<ipython-input-61-1bda6a99003e>\"\u001b[1;36m, line \u001b[1;32m3\u001b[0m\n\u001b[1;33m    df.iloc[0][:].apply(lambda x: d.check(x) if x != NaN)\u001b[0m\n\u001b[1;37m                                                        ^\u001b[0m\n\u001b[1;31mSyntaxError\u001b[0m\u001b[1;31m:\u001b[0m invalid syntax\n"
     ]
    }
   ],
   "source": [
    "#li = [];\n",
    "\n",
    "df.iloc[0][:].apply(lambda x: d.check(x) if x != NaN)"
   ]
  },
  {
   "cell_type": "code",
   "execution_count": 72,
   "metadata": {},
   "outputs": [],
   "source": [
    "for index, row in df.iterrows():\n",
    "    #print(index)\n",
    "    \n",
    "    if d.check(str(row)) == True:\n",
    "        print(row)\n",
    "    break"
   ]
  },
  {
   "cell_type": "code",
   "execution_count": 77,
   "metadata": {
    "scrolled": true
   },
   "outputs": [
    {
     "data": {
      "text/plain": [
       "10000"
      ]
     },
     "execution_count": 77,
     "metadata": {},
     "output_type": "execute_result"
    }
   ],
   "source": [
    "for i in range(df[0:])"
   ]
  },
  {
   "cell_type": "code",
   "execution_count": 184,
   "metadata": {},
   "outputs": [],
   "source": [
    "from tqdm.notebook import trange"
   ]
  },
  {
   "cell_type": "code",
   "execution_count": 188,
   "metadata": {},
   "outputs": [
    {
     "data": {
      "application/vnd.jupyter.widget-view+json": {
       "model_id": "8792b00f898b4e38aad7b8d18aeb4241",
       "version_major": 2,
       "version_minor": 0
      },
      "text/plain": [
       "HBox(children=(IntProgress(value=0, max=10000), HTML(value='')))"
      ]
     },
     "metadata": {},
     "output_type": "display_data"
    },
    {
     "name": "stdout",
     "output_type": "stream",
     "text": [
      "\n"
     ]
    }
   ],
   "source": [
    "Li = [];\n",
    "Tup =[]\n",
    "for j in trange(0,10000):\n",
    "    for i in range(0,len(df.iloc[0])):\n",
    "        if d.check(str(df.iloc[j][i])) == False:\n",
    "            if str(df.iloc[j][i]) != 'nan':\n",
    "                Li.append(df.iloc[j][i])\n",
    "                Tup.append([j,i])"
   ]
  },
  {
   "cell_type": "code",
   "execution_count": 190,
   "metadata": {},
   "outputs": [
    {
     "data": {
      "text/plain": [
       "7037"
      ]
     },
     "execution_count": 190,
     "metadata": {},
     "output_type": "execute_result"
    }
   ],
   "source": [
    "len(Li)"
   ]
  },
  {
   "cell_type": "code",
   "execution_count": 191,
   "metadata": {},
   "outputs": [
    {
     "data": {
      "text/plain": [
       "7037"
      ]
     },
     "execution_count": 191,
     "metadata": {},
     "output_type": "execute_result"
    }
   ],
   "source": [
    "len(Tup)"
   ]
  },
  {
   "cell_type": "code",
   "execution_count": 193,
   "metadata": {},
   "outputs": [],
   "source": [
    "datan = {'cropnamne' : Li, 'coordinate' : Tup}\n",
    "dfn = pd.DataFrame(datan)"
   ]
  },
  {
   "cell_type": "code",
   "execution_count": 199,
   "metadata": {},
   "outputs": [],
   "source": [
    "with open('D:\\Ravi Lakshay\\Prepp 2022\\Carnot_Agri\\your_file.txt', 'w', encoding=\"utf-8\") as f:\n",
    "    for item in Li:\n",
    "        f.write(\"%s\\n\" % item)"
   ]
  },
  {
   "cell_type": "code",
   "execution_count": 209,
   "metadata": {},
   "outputs": [
    {
     "data": {
      "text/plain": [
       "True"
      ]
     },
     "execution_count": 209,
     "metadata": {},
     "output_type": "execute_result"
    }
   ],
   "source": [
    "d.check('radish')"
   ]
  },
  {
   "cell_type": "code",
   "execution_count": null,
   "metadata": {},
   "outputs": [],
   "source": []
  }
 ],
 "metadata": {
  "kernelspec": {
   "display_name": "Python 3",
   "language": "python",
   "name": "python3"
  },
  "language_info": {
   "codemirror_mode": {
    "name": "ipython",
    "version": 3
   },
   "file_extension": ".py",
   "mimetype": "text/x-python",
   "name": "python",
   "nbconvert_exporter": "python",
   "pygments_lexer": "ipython3",
   "version": "3.7.4"
  }
 },
 "nbformat": 4,
 "nbformat_minor": 2
}
